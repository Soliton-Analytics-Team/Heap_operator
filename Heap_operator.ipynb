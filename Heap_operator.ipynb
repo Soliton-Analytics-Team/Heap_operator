{
  "nbformat": 4,
  "nbformat_minor": 0,
  "metadata": {
    "colab": {
      "provenance": []
    },
    "kernelspec": {
      "name": "python3",
      "display_name": "Python 3"
    },
    "language_info": {
      "name": "python"
    }
  },
  "cells": [
    {
      "cell_type": "markdown",
      "source": [
        "# Colabで学ぶC++ヒープ演算と部分ソート完全攻略\n",
        "\n",
        "make_heap(), push_heap(), pop_heap(), sort_heap()\n",
        "これらの関数はC++のSTLに含まれているものですが、その有用性にもかかわらず、使い方に関する情報に乏しいです。最近、これらを深掘りしたので、知見を共有いたします。ただし、ヒープ構造に関する情報は散見されるため、ここではその点には触れず、その使い道や使い方についてColabで動く実例を交えながら解説します。"
      ],
      "metadata": {
        "id": "NIgida6x5c7d"
      }
    },
    {
      "cell_type": "markdown",
      "source": [
        "ヒープ演算は、Top Kの値の取得に使えます。Kが配列全体の長さと同じなら全ソート、短ければ部分ソートということになります。それもインプレイスで処理できるので、メモリリソースも最小限で済みます。単純にソートに使うものと思っている人が多いのですが、部分ソートに使えることを知っていると有用性の幅が広がります。\n",
        "\n",
        "\n",
        "\n",
        "\n"
      ],
      "metadata": {
        "id": "V3YWQuBn_fcm"
      }
    },
    {
      "cell_type": "markdown",
      "source": [
        "## 1. make_heap()の使い方\n",
        "\n",
        "それではまず、基本として、make_heap()で何が生成されるのか見てみます。"
      ],
      "metadata": {
        "id": "R8HMU0bJF-4J"
      }
    },
    {
      "cell_type": "code",
      "execution_count": 1,
      "metadata": {
        "colab": {
          "base_uri": "https://localhost:8080/"
        },
        "id": "PXzaFFa45XVf",
        "outputId": "73e7d00a-a237-44a7-807f-f14d20078808"
      },
      "outputs": [
        {
          "output_type": "stream",
          "name": "stdout",
          "text": [
            "Overwriting base.cpp\n"
          ]
        }
      ],
      "source": [
        "%%writefile base.cpp\n",
        "\n",
        "#include <algorithm>\n",
        "#include <array>\n",
        "#include <iostream>\n",
        "\n",
        "#define print(title, a) std::cout << title << \"\\t\"; for (auto it : a) std::cout << it << \" \"; std::cout << std::endl;\n",
        "\n",
        "int main(void) {\n",
        "    std::array<int, 6> a = {3, 1, 4, 2, 5, 6};\n",
        "    std::make_heap(a.begin(), a.end());\n",
        "    print(\"make_heap\", a);\n",
        "}"
      ]
    },
    {
      "cell_type": "code",
      "source": [
        "!g++ base.cpp\n",
        "!./a.out"
      ],
      "metadata": {
        "colab": {
          "base_uri": "https://localhost:8080/"
        },
        "id": "6sgpu6Kw8nwZ",
        "outputId": "241118c2-4a6d-43cf-faaa-e70f3a4fc69c"
      },
      "execution_count": 2,
      "outputs": [
        {
          "output_type": "stream",
          "name": "stdout",
          "text": [
            "make_heap\t6 5 4 2 1 3 \n"
          ]
        }
      ]
    },
    {
      "cell_type": "markdown",
      "source": [
        "上記で分かるようにヒープ**構造**といっても、ただの数値の並びです。もちろん、一定の法則に沿って並べられているのですが、それについてはここでは述べません。ただ、最初の値a[0]は最大値となっていることは覚えておきましょう。\n",
        "\n",
        "ところで、make_heap()の最小限の使い方は ```make_heap(a.begin(), a.end())``` で第一引数に開始位置、第二引数に終了位置を指定します。ということは、これらの位置をその他に指定すれば、配列の途中だけをヒープ構造にすることができるということです。例えば```make_heap(a.begin() + 1, a.begin() + 4)```とか。この場合はa[1] ,a[2], a[3]が並び替えられます。\n",
        "\n"
      ],
      "metadata": {
        "id": "ydx7ZgmwDYhS"
      }
    },
    {
      "cell_type": "markdown",
      "source": [
        "## 2. sort_heap()の使い方\n",
        "\n",
        "次にシンプルなsort_heap()を見てみましょう。"
      ],
      "metadata": {
        "id": "Pn2gB51xGsVD"
      }
    },
    {
      "cell_type": "code",
      "source": [
        "%%writefile sort.cpp\n",
        "\n",
        "#include <algorithm>\n",
        "#include <array>\n",
        "#include <iostream>\n",
        "\n",
        "#define print(title, a) std::cout << title << \"\\t\"; for (auto it : a) std::cout << it << \" \"; std::cout << std::endl;\n",
        "\n",
        "int main(void) {\n",
        "    std::array<int, 6> a = {3, 1, 4, 2, 5, 6};\n",
        "    std::make_heap(a.begin(), a.end());\n",
        "    print(\"make_heap\", a);\n",
        "    std::sort_heap(a.begin(), a.end());\n",
        "    print(\"sort_heap\", a);\n",
        "}"
      ],
      "metadata": {
        "colab": {
          "base_uri": "https://localhost:8080/"
        },
        "id": "Qfz-kpV4-S44",
        "outputId": "25072193-3243-4045-de06-c4717fdc95c9"
      },
      "execution_count": 3,
      "outputs": [
        {
          "output_type": "stream",
          "name": "stdout",
          "text": [
            "Overwriting sort.cpp\n"
          ]
        }
      ]
    },
    {
      "cell_type": "code",
      "source": [
        "!g++ sort.cpp\n",
        "!./a.out"
      ],
      "metadata": {
        "colab": {
          "base_uri": "https://localhost:8080/"
        },
        "id": "MWriPxqiHQKX",
        "outputId": "aaeaefa6-9019-4e16-8a16-bb8120298b49"
      },
      "execution_count": 4,
      "outputs": [
        {
          "output_type": "stream",
          "name": "stdout",
          "text": [
            "make_heap\t6 5 4 2 1 3 \n",
            "sort_heap\t1 2 3 4 5 6 \n"
          ]
        }
      ]
    },
    {
      "cell_type": "markdown",
      "source": [
        "小さい順に並びましたね。ヒープ構造の最初の値が最大値と聞いておや？と思った方もいらっしゃると思いますが、これをsort_heap()にかけると小さい順に並ぶのです。省略されている比較演算子はstd::less<>()です。これをstd::greater<>()に変更すると逆順になります。ちょっとやってみましょう。"
      ],
      "metadata": {
        "id": "Fa0yk_flHcAH"
      }
    },
    {
      "cell_type": "code",
      "source": [
        "%%writefile rev_sort.cpp\n",
        "\n",
        "#include <algorithm>\n",
        "#include <array>\n",
        "#include <iostream>\n",
        "\n",
        "#define print(title, a) std::cout << title << \"\\t\"; for (auto it : a) std::cout << it << \" \"; std::cout << std::endl;\n",
        "\n",
        "int main(void) {\n",
        "    std::array<int, 6> a = {3, 1, 4, 2, 5, 6};\n",
        "    std::make_heap(a.begin(), a.end(), std::greater<>());\n",
        "    print(\"make_heap\", a);\n",
        "    std::sort_heap(a.begin(), a.end(), std::greater<>());\n",
        "    print(\"sort_heap\", a);\n",
        "}"
      ],
      "metadata": {
        "colab": {
          "base_uri": "https://localhost:8080/"
        },
        "id": "OAFoqDRzIn0d",
        "outputId": "6244e916-4d59-4ac0-8033-4811bbcc0c6c"
      },
      "execution_count": 5,
      "outputs": [
        {
          "output_type": "stream",
          "name": "stdout",
          "text": [
            "Overwriting rev_sort.cpp\n"
          ]
        }
      ]
    },
    {
      "cell_type": "code",
      "source": [
        "!g++ rev_sort.cpp\n",
        "!./a.out"
      ],
      "metadata": {
        "colab": {
          "base_uri": "https://localhost:8080/"
        },
        "id": "kD-2maBGIx7Q",
        "outputId": "e7a14ad8-b283-4321-9eab-a5b5781f2838"
      },
      "execution_count": 6,
      "outputs": [
        {
          "output_type": "stream",
          "name": "stdout",
          "text": [
            "make_heap\t1 2 4 3 5 6 \n",
            "sort_heap\t6 5 4 3 2 1 \n"
          ]
        }
      ]
    },
    {
      "cell_type": "markdown",
      "source": [
        "大きい順になりましたね。もちろんこの場合、make_heap()で並べ替えた配列の最初の値は最小値になります。また、make_heap()とsort_heap()では同じ比較演算子を指定しなければなりません。\n",
        "\n",
        "ちなみに、greater<>に<>が付いているのは、配列の要素の型に合わせて自動的に比較方法を調整する機能のためです。C++便利ですね。\n",
        "\n",
        "ところで、vectorとかarrayじゃなくて、int[]みたいな配列を操作するにはどうすればいいでしょうか。"
      ],
      "metadata": {
        "id": "M5gkRyBIJJSa"
      }
    },
    {
      "cell_type": "code",
      "source": [
        "%%writefile sort_array.cpp\n",
        "\n",
        "#include <algorithm>\n",
        "#include <iostream>\n",
        "\n",
        "#define print(title, a) std::cout << title << \"\\t\"; for (auto it : a) std::cout << it << \" \"; std::cout << std::endl;\n",
        "\n",
        "int main(void) {\n",
        "    int a[] = {3, 1, 4, 2, 5, 6};\n",
        "    std::make_heap(a, a + 6);\n",
        "    print(\"make_heap\", a);\n",
        "    std::sort_heap(a, a + 6);\n",
        "    print(\"sort_heap\", a);\n",
        "}"
      ],
      "metadata": {
        "colab": {
          "base_uri": "https://localhost:8080/"
        },
        "id": "T5dzH03GL-yM",
        "outputId": "e45828b9-c864-435f-c070-07c621982a86"
      },
      "execution_count": 7,
      "outputs": [
        {
          "output_type": "stream",
          "name": "stdout",
          "text": [
            "Overwriting sort_array.cpp\n"
          ]
        }
      ]
    },
    {
      "cell_type": "code",
      "source": [
        "!g++ sort_array.cpp\n",
        "!./a.out"
      ],
      "metadata": {
        "colab": {
          "base_uri": "https://localhost:8080/"
        },
        "id": "_Ik0OMhNMTRd",
        "outputId": "9fdf83f8-c732-4dbc-e727-231794aa4dd5"
      },
      "execution_count": 8,
      "outputs": [
        {
          "output_type": "stream",
          "name": "stdout",
          "text": [
            "make_heap\t6 5 4 2 1 3 \n",
            "sort_heap\t1 2 3 4 5 6 \n"
          ]
        }
      ]
    },
    {
      "cell_type": "markdown",
      "source": [
        "簡単ですね！ただ配列の大きさを別途管理しなければなりません。"
      ],
      "metadata": {
        "id": "8ZYSOnDtMZr8"
      }
    },
    {
      "cell_type": "markdown",
      "source": [
        "## 3. push_heap()の使い方\n",
        "\n",
        "ソートするのに、make_heap()とsort_heap()の２段階に別れているのはなんのためでしょうか。これは配列を一括でソートするだけではなく、逐次的に値を追加できるようにするためです。その機能を担うのが、push_heap()です。"
      ],
      "metadata": {
        "id": "qjxc399TKLwR"
      }
    },
    {
      "cell_type": "code",
      "source": [
        "%%writefile push_sample.cpp\n",
        "\n",
        "#include <algorithm>\n",
        "#include <vector>\n",
        "#include <iostream>\n",
        "\n",
        "#define print(title, a) std::cout << title << \"\\t\"; for (auto it : a) std::cout << it << \" \"; std::cout << std::endl;\n",
        "\n",
        "int main(void) {\n",
        "    std::vector<int> a = {3, 1, 4, 2, 5, 6};\n",
        "    std::make_heap(a.begin(), a.end());\n",
        "    print(\"make_heap\", a);\n",
        "    a.push_back(5);                     // ここで配列の末尾に値を追加\n",
        "    print(\"push_back\", a);\n",
        "    std::push_heap(a.begin(), a.end()); // 追加した値も含めてpush_heap()\n",
        "    print(\"push_heap\", a);\n",
        "    std::sort_heap(a.begin(), a.end());\n",
        "    print(\"sort_heap\", a);\n",
        "}"
      ],
      "metadata": {
        "colab": {
          "base_uri": "https://localhost:8080/"
        },
        "id": "IqzgkmpaOCRU",
        "outputId": "7dbd7c4b-cffa-4f89-e1bf-5acf532219fe"
      },
      "execution_count": 9,
      "outputs": [
        {
          "output_type": "stream",
          "name": "stdout",
          "text": [
            "Overwriting push_sample.cpp\n"
          ]
        }
      ]
    },
    {
      "cell_type": "code",
      "source": [
        "!g++ push_sample.cpp\n",
        "!./a.out"
      ],
      "metadata": {
        "colab": {
          "base_uri": "https://localhost:8080/"
        },
        "id": "klBHIrMkOS2T",
        "outputId": "79282312-3b3d-4753-a3f5-ae6bb36050e4"
      },
      "execution_count": 10,
      "outputs": [
        {
          "output_type": "stream",
          "name": "stdout",
          "text": [
            "make_heap\t6 5 4 2 1 3 \n",
            "push_back\t6 5 4 2 1 3 5 \n",
            "push_heap\t6 5 5 2 1 3 4 \n",
            "sort_heap\t1 2 3 4 5 5 6 \n"
          ]
        }
      ]
    },
    {
      "cell_type": "markdown",
      "source": [
        "既存のヒープ配列に要素を追加している様子が分かりますね。"
      ],
      "metadata": {
        "id": "enESllT4TsJy"
      }
    },
    {
      "cell_type": "markdown",
      "source": [
        "## 4. pop_heap()の使い方\n",
        "\n",
        "push_heap()で要素を追加できることは分かりましたが、全要素を追加するなら、最初から全要素に対してmake_heap()するだけで良いし、その方が効率もよいらしいので、あまりpush_heap()の有効性が分かりません。そこでpop_heap()の登場です。\n",
        "\n",
        "pop_heap()は、先頭と末尾の要素を入れ替えた上で末尾を除いた部分についてヒープ構造を再構築します。ってなんのことでしょうか。意味がわかりませんね。ここで先頭の要素は最大値であることを思い出してください。先頭と末尾を入れ替えるということは、最大値を末尾に持ってくるということです。そして最大値を除いた残りでヒープ構造を構成するというわけです。その様子を以下で確認してみましょう。"
      ],
      "metadata": {
        "id": "NZx-ZHzoRey7"
      }
    },
    {
      "cell_type": "code",
      "source": [
        "%%writefile pop_sample.cpp\n",
        "\n",
        "#include <algorithm>\n",
        "#include <vector>\n",
        "#include <iostream>\n",
        "\n",
        "#define print(title, a) std::cout << title << \"\\t\"; for (auto it : a) std::cout << it << \" \"; std::cout << std::endl;\n",
        "\n",
        "int main(void) {\n",
        "    std::vector<int> a = {3, 1, 4, 2, 5, 6};\n",
        "    std::make_heap(a.begin(), a.end());\n",
        "    print(\"make_heap\", a);\n",
        "    std::pop_heap(a.begin(), a.end());\n",
        "    print(\"pop_heap\", a);\n",
        "}"
      ],
      "metadata": {
        "colab": {
          "base_uri": "https://localhost:8080/"
        },
        "id": "R0yzQCHjXRH4",
        "outputId": "ba8584c1-1b33-4fc7-9bc2-41298bbf489c"
      },
      "execution_count": 11,
      "outputs": [
        {
          "output_type": "stream",
          "name": "stdout",
          "text": [
            "Overwriting pop_sample.cpp\n"
          ]
        }
      ]
    },
    {
      "cell_type": "code",
      "source": [
        "!g++ pop_sample.cpp\n",
        "!./a.out"
      ],
      "metadata": {
        "colab": {
          "base_uri": "https://localhost:8080/"
        },
        "id": "T5nl1mc4XiOh",
        "outputId": "53de632f-8c36-436a-b28d-96a7a20361d4"
      },
      "execution_count": 12,
      "outputs": [
        {
          "output_type": "stream",
          "name": "stdout",
          "text": [
            "make_heap\t6 5 4 2 1 3 \n",
            "pop_heap\t5 3 4 2 1 6 \n"
          ]
        }
      ]
    },
    {
      "cell_type": "markdown",
      "source": [
        "最大値が最後尾に来て、次の最大値が先頭に来ている様子が分かりますね。では何のためにこんなことをするのでしょうか。実は対象範囲を短くしながらこれを繰り返すと最終的に全ての要素が小さい順に並びます。結果、これがsort_heap()になるのですが、それは次で見ます。\n",
        "\n",
        "と、これではpush_heap()の効用が説明できていません。実はpush_heap()とpop_heap()を繰り返すことで部分ソートが実現できるのです。それについては、partial_sort()の節で説明します。"
      ],
      "metadata": {
        "id": "MoExSI3RX81a"
      }
    },
    {
      "cell_type": "markdown",
      "source": [
        "## 5. sort_heap()の正体\n",
        "\n",
        "pop_heap()を説明しましたので、sort_heap()の中身を理解できます。このアルゴリズムを知った時は驚愕しました。今までのヒープ演算の仕様は全てこのためであると言っても過言ではありません。本体は\n",
        "```\n",
        "  while (last - first > 1) {\n",
        "    std::pop_heap(first, last, comp);\n",
        "    --last;\n",
        "  }\n",
        "```\n",
        "これだけです。あえて説明しませんが、うまく設計されているものですね。以下で実際に動かして検証します。"
      ],
      "metadata": {
        "id": "Oobilq7iUtfL"
      }
    },
    {
      "cell_type": "code",
      "source": [
        "%%writefile my_sort_heap.cpp\n",
        "\n",
        "#include <algorithm>\n",
        "#include <array>\n",
        "#include <iostream>\n",
        "\n",
        "template <class RandomAccessIterator, class Compare>\n",
        "void my_sort_heap(RandomAccessIterator first, RandomAccessIterator last, Compare comp) {\n",
        "  while (last - first > 1) {\n",
        "    std::pop_heap(first, last, comp);\n",
        "    --last;\n",
        "  }\n",
        "}\n",
        "\n",
        "#define print(title, a) std::cout << title << \"\\t\"; for (auto it : a) std::cout << it << \" \"; std::cout << std::endl;\n",
        "\n",
        "int main(void) {\n",
        "    std::array<int, 6> a = {3, 1, 4, 2, 5, 6};\n",
        "    std::make_heap(a.begin(), a.end());\n",
        "    print(\"make_heap\", a);\n",
        "    my_sort_heap(a.begin(), a.end(), std::less<>());\n",
        "    print(\"my_sort_heap\", a);\n",
        "}"
      ],
      "metadata": {
        "id": "d1Ko95qXOWsb",
        "colab": {
          "base_uri": "https://localhost:8080/"
        },
        "outputId": "ab85bc62-e6e5-4e48-8bbf-21f26a6cc3de"
      },
      "execution_count": 13,
      "outputs": [
        {
          "output_type": "stream",
          "name": "stdout",
          "text": [
            "Overwriting my_sort_heap.cpp\n"
          ]
        }
      ]
    },
    {
      "cell_type": "code",
      "source": [
        "!g++ my_sort_heap.cpp\n",
        "!./a.out"
      ],
      "metadata": {
        "colab": {
          "base_uri": "https://localhost:8080/"
        },
        "id": "eClkvhP8RLYr",
        "outputId": "725c300e-49e5-4557-8dd9-8814464cf8dc"
      },
      "execution_count": 14,
      "outputs": [
        {
          "output_type": "stream",
          "name": "stdout",
          "text": [
            "make_heap\t6 5 4 2 1 3 \n",
            "my_sort_heap\t1 2 3 4 5 6 \n"
          ]
        }
      ]
    },
    {
      "cell_type": "markdown",
      "source": [
        "std::sort_heap()と同様であることが確認できました。"
      ],
      "metadata": {
        "id": "WeP3Us67SvRf"
      }
    },
    {
      "cell_type": "markdown",
      "source": [
        "## 6. partial_sort()\n",
        "\n",
        "標準にpartial_sort()があるので、動作を確認します。"
      ],
      "metadata": {
        "id": "J9s72VzQSPl5"
      }
    },
    {
      "cell_type": "code",
      "source": [
        "%%writefile partial_sort.cpp\n",
        "\n",
        "#include <algorithm>\n",
        "#include <vector>\n",
        "#include <iostream>\n",
        "#include <random>\n",
        "\n",
        "#define print(title, a) std::cout << title << \"\\t\"; for (auto it : a) std::cout << it << \" \"; std::cout << std::endl;\n",
        "\n",
        "int main(void) {\n",
        "    std::vector<int> a(20);\n",
        "    std::iota(a.begin(), a.end(), 0);\n",
        "    std::random_device seed_gen;\n",
        "    std::mt19937 engine(seed_gen());\n",
        "    std::shuffle(a.begin(), a.end(), engine);\n",
        "    print(\"original\", a);\n",
        "    std::partial_sort(a.begin(), a.begin() + 5, a.end());\n",
        "    print(\"partial_sort\", a);\n",
        "}"
      ],
      "metadata": {
        "colab": {
          "base_uri": "https://localhost:8080/"
        },
        "id": "FUl5q1-ykm2k",
        "outputId": "68deeaa4-f1b1-4618-8154-bd5f89209cff"
      },
      "execution_count": 15,
      "outputs": [
        {
          "output_type": "stream",
          "name": "stdout",
          "text": [
            "Overwriting partial_sort.cpp\n"
          ]
        }
      ]
    },
    {
      "cell_type": "code",
      "source": [
        "!g++ partial_sort.cpp\n",
        "!./a.out"
      ],
      "metadata": {
        "colab": {
          "base_uri": "https://localhost:8080/"
        },
        "id": "12wYRPONk8gS",
        "outputId": "9483b832-dc6a-49fb-c468-b178c5846a87"
      },
      "execution_count": 16,
      "outputs": [
        {
          "output_type": "stream",
          "name": "stdout",
          "text": [
            "original\t1 7 14 13 16 3 12 15 2 6 10 8 11 5 19 0 18 9 4 17 \n",
            "partial_sort\t0 1 2 3 4 16 14 15 13 12 10 8 11 7 19 6 18 9 5 17 \n"
          ]
        }
      ]
    },
    {
      "cell_type": "markdown",
      "source": [
        "小さい順に5つの要素だけが配列の先頭に来ていることが分かります。全ソートのオーダーはO(N \\* log N)ですが、部分ソートはO(N \\* log K)ですので、高速化します。"
      ],
      "metadata": {
        "id": "KrM-K6rFpVpv"
      }
    },
    {
      "cell_type": "markdown",
      "source": [
        "それでは、push_heap()してからpop_heap()をした様子を見てみましょう。"
      ],
      "metadata": {
        "id": "J7A4Qa1lCQAW"
      }
    },
    {
      "cell_type": "code",
      "source": [
        "%%writefile push_pop.cpp\n",
        "\n",
        "#include <algorithm>\n",
        "#include <vector>\n",
        "#include <iostream>\n",
        "\n",
        "#define print(title, a) std::cout << title << \"\\t\"; for (auto it : a) std::cout << it << \" \"; std::cout << std::endl;\n",
        "\n",
        "int main(void) {\n",
        "    std::vector<int> a = {3, 1, 4, 2, 6};\n",
        "    print(\"original\", a);\n",
        "    std::make_heap(a.begin(), a.end());\n",
        "    print(\"make_heap\", a);\n",
        "    a.push_back(5);\n",
        "    print(\"push_back\", a);\n",
        "    std::push_heap(a.begin(), a.end());\n",
        "    print(\"push_heap\", a);\n",
        "    std::pop_heap(a.begin(), a.end());\n",
        "    print(\"pop_heap\", a);\n",
        "    a.pop_back();\n",
        "    print(\"pop_back\", a);\n",
        "}"
      ],
      "metadata": {
        "colab": {
          "base_uri": "https://localhost:8080/"
        },
        "id": "xKC_sfzzfmIF",
        "outputId": "41ab3ecd-ea6a-402e-d680-bab65a87258c"
      },
      "execution_count": 17,
      "outputs": [
        {
          "output_type": "stream",
          "name": "stdout",
          "text": [
            "Overwriting push_pop.cpp\n"
          ]
        }
      ]
    },
    {
      "cell_type": "code",
      "source": [
        "!g++ push_pop.cpp\n",
        "!./a.out"
      ],
      "metadata": {
        "colab": {
          "base_uri": "https://localhost:8080/"
        },
        "id": "5qkJ7pC-gbed",
        "outputId": "8807a2f0-e8a4-4415-d909-7fd182313125"
      },
      "execution_count": 18,
      "outputs": [
        {
          "output_type": "stream",
          "name": "stdout",
          "text": [
            "original\t3 1 4 2 6 \n",
            "make_heap\t6 3 4 2 1 \n",
            "push_back\t6 3 4 2 1 5 \n",
            "push_heap\t6 3 5 2 1 4 \n",
            "pop_heap\t5 3 4 2 1 6 \n",
            "pop_back\t5 3 4 2 1 \n"
          ]
        }
      ]
    },
    {
      "cell_type": "markdown",
      "source": [
        "5を追加投入すると、それまでの最大値だった6が除かれています。\n",
        "これによって最小値から5番目までが常に保持される様子が分かると思います。"
      ],
      "metadata": {
        "id": "qBeqonC5Cg35"
      }
    },
    {
      "cell_type": "markdown",
      "source": [
        "これを使って実装した部分ソートを試してみましょう。"
      ],
      "metadata": {
        "id": "GMwtjSnuDRvI"
      }
    },
    {
      "cell_type": "code",
      "source": [
        "%%writefile simple_partial_sort.cpp\n",
        "\n",
        "#include <algorithm>\n",
        "#include <vector>\n",
        "#include <iostream>\n",
        "#include <random>\n",
        "\n",
        "template <class RandomAccessIterator, class Compare>\n",
        "void simple_partial_sort(RandomAccessIterator first, RandomAccessIterator middle, RandomAccessIterator last, Compare comp) {\n",
        "    std::make_heap(first, middle, comp);\n",
        "    for (auto it = middle; it != last; ++it) {\n",
        "        if (!comp(*it ,*first)) continue;\n",
        "        std::iter_swap(middle, it);\n",
        "        std::push_heap(first, middle + 1, comp);\n",
        "        std::pop_heap(first, middle + 1, comp);\n",
        "    }\n",
        "    std::sort_heap(first, middle);\n",
        "}\n",
        "\n",
        "#define print(title, a) std::cout << title << \"\\t\"; for (auto it : a) std::cout << it << \" \"; std::cout << std::endl;\n",
        "\n",
        "int main(void) {\n",
        "    std::vector<int> a(20);\n",
        "    std::iota(a.begin(), a.end(), 0);\n",
        "    std::random_device seed_gen;\n",
        "    std::mt19937 engine(seed_gen());\n",
        "    std::shuffle(a.begin(), a.end(), engine);\n",
        "    print(\"original\", a);\n",
        "    simple_partial_sort(a.begin(), a.begin() + 5, a.end(), std::less<>());\n",
        "    print(\"partial_sort\", a);\n",
        "}"
      ],
      "metadata": {
        "colab": {
          "base_uri": "https://localhost:8080/"
        },
        "id": "bHC0KPNag7Iu",
        "outputId": "b798dbf8-64e3-48be-b9f3-bb6b224d79e1"
      },
      "execution_count": 19,
      "outputs": [
        {
          "output_type": "stream",
          "name": "stdout",
          "text": [
            "Overwriting simple_partial_sort.cpp\n"
          ]
        }
      ]
    },
    {
      "cell_type": "code",
      "source": [
        "!g++ simple_partial_sort.cpp\n",
        "!./a.out"
      ],
      "metadata": {
        "colab": {
          "base_uri": "https://localhost:8080/"
        },
        "id": "KiXHqhNPt0PX",
        "outputId": "07921fb0-6b93-48b4-d8f3-c0757a266c84"
      },
      "execution_count": 20,
      "outputs": [
        {
          "output_type": "stream",
          "name": "stdout",
          "text": [
            "original\t3 7 15 19 11 0 13 12 1 18 8 10 9 2 5 4 16 14 17 6 \n",
            "partial_sort\t0 1 2 3 4 5 19 15 13 18 12 10 9 11 8 7 16 14 17 6 \n"
          ]
        }
      ]
    },
    {
      "cell_type": "markdown",
      "source": [
        "実際に最小値から5番目までがソートされているのが分かります。"
      ],
      "metadata": {
        "id": "LTI8YPh-DvAV"
      }
    },
    {
      "cell_type": "markdown",
      "source": [
        "### 7. 処理時間比較"
      ],
      "metadata": {
        "id": "VRelxsHxmKo1"
      }
    },
    {
      "cell_type": "markdown",
      "source": [
        "10回実行して処理時間とクロックを平均するマクロと、上位の結果を出力するマクロを定義します。"
      ],
      "metadata": {
        "id": "rHrZp_A1o4Yc"
      }
    },
    {
      "cell_type": "code",
      "source": [
        "%%writefile util.h\n",
        "\n",
        "#include <iostream>\n",
        "#include <chrono>\n",
        "\n",
        "#define N 10\n",
        "\n",
        "#define T(title, f) {                                                       \\\n",
        "    float total_t = 0;                                                      \\\n",
        "    clock_t total_clock = 0;                                                \\\n",
        "    for (size_t i = i; i < N; ++i) {                                        \\\n",
        "      auto start = std::chrono::steady_clock::now();                        \\\n",
        "      clock_t start_clock = clock();                                        \\\n",
        "      f;                                                                    \\\n",
        "      clock_t end_clock = clock();                                          \\\n",
        "      auto end = std::chrono::steady_clock::now();                          \\\n",
        "      total_t +=                                                            \\\n",
        "        std::chrono::duration_cast<std::chrono::microseconds>(end - start).count() / 1000000.0; \\\n",
        "      total_clock |= end_clock - start_clock;                               \\\n",
        "    }                                                                       \\\n",
        "    std::cerr << title << \"\\tave: \" << std::fixed << total_t / N << \" sec \" \\\n",
        "              << total_clock / N << \" clock\" << std::endl;                  \\\n",
        "  }\n",
        "\n",
        "#define P(title, a, k) {                                        \\\n",
        "  std::cout << title << \"\\t\";                                   \\\n",
        "  for (auto it = a; it != a + k; ++it) std::cout << *it << \" \"; \\\n",
        "  std::cout << std::endl; }\n"
      ],
      "metadata": {
        "colab": {
          "base_uri": "https://localhost:8080/"
        },
        "id": "PoaEcCfHkqcp",
        "outputId": "a678769a-f220-4912-c286-f98c52f4d07d"
      },
      "execution_count": 21,
      "outputs": [
        {
          "output_type": "stream",
          "name": "stdout",
          "text": [
            "Overwriting util.h\n"
          ]
        }
      ]
    },
    {
      "cell_type": "markdown",
      "source": [
        "次に、上記の検討から得られたシンプルな部分ソートを定義します。"
      ],
      "metadata": {
        "id": "7VQzkBgPpMh7"
      }
    },
    {
      "cell_type": "code",
      "source": [
        "%%writefile simple_partial_sort.h\n",
        "\n",
        "#include <algorithm>\n",
        "\n",
        "template <class RandomAccessIterator, class Compare>\n",
        "void simple_partial_sort(RandomAccessIterator first, RandomAccessIterator middle, RandomAccessIterator last, Compare comp) {\n",
        "    std::make_heap(first, middle, comp);\n",
        "    for (auto it = middle; it != last; ++it) {\n",
        "        if (!comp(*it, *first)) continue;\n",
        "        std::iter_swap(middle, it);\n",
        "        std::push_heap(first, middle + 1, comp);\n",
        "        std::pop_heap(first, middle + 1, comp);\n",
        "    }\n",
        "    std::sort_heap(first, middle);\n",
        "}"
      ],
      "metadata": {
        "colab": {
          "base_uri": "https://localhost:8080/"
        },
        "id": "kePUUTcWmZ1N",
        "outputId": "a251b81d-577c-499d-dd73-2c349d84d73f"
      },
      "execution_count": 22,
      "outputs": [
        {
          "output_type": "stream",
          "name": "stdout",
          "text": [
            "Overwriting simple_partial_sort.h\n"
          ]
        }
      ]
    },
    {
      "cell_type": "markdown",
      "source": [
        "ただし、[このページ](https://en.cppreference.com/w/cpp/algorithm/partial_sort)によると、上記の実装は実践では若干効率が悪いそうです。push_heap()とpop_heap()を同時に行うsift_down()という関数を使う実装が載っていたので、それを拝借したのが下記のstd_partial_sort()です。\n",
        "また、そこから最後のsort_heap()を除いたものをstd_nth_element()としてみました。std::nth_element()と同等のもので、topkを取得する関数ですが、得られた結果はソートされていません。"
      ],
      "metadata": {
        "id": "FD2YG8rBFVoR"
      }
    },
    {
      "cell_type": "code",
      "source": [
        "%%writefile std_partial_sort.h\n",
        "\n",
        "#include <algorithm>\n",
        "\n",
        "namespace impl {\n",
        "template<typename RandomIt, typename Compare = std::less<typename std::iterator_traits<RandomIt>::value_type>>\n",
        "void sift_down(RandomIt begin, RandomIt end, const Compare &comp = {}) { // sift down element at 'begin'\n",
        "  const auto length = static_cast<size_t>(end - begin);\n",
        "  size_t current = 0;\n",
        "  size_t next = 2;\n",
        "  while (next < length) {\n",
        "    if (comp(*(begin + next), *(begin + (next - 1))))\n",
        "      --next;\n",
        "    if (!comp(*(begin + current), *(begin + next)))\n",
        "      return;\n",
        "    std::iter_swap(begin + current, begin + next);\n",
        "    current = next;\n",
        "    next = 2 * current + 2;\n",
        "  }\n",
        "  --next;\n",
        "  if (next < length && comp(*(begin + current), *(begin + next)))\n",
        "    std::iter_swap(begin + current, begin + next);\n",
        "}\n",
        " \n",
        "template<typename RandomIt, typename Compare = std::less<typename std::iterator_traits<RandomIt>::value_type>>\n",
        "void heap_select(RandomIt begin, RandomIt middle, RandomIt end, const Compare &comp = {}) {\n",
        "  std::make_heap(begin, middle, comp);\n",
        "  for (auto i = middle; i != end; ++i)\n",
        "    if (comp(*i, *begin)) {\n",
        "      std::iter_swap(begin, i);\n",
        "      sift_down(begin, middle, comp);\n",
        "    }\n",
        "}\n",
        "\n",
        "} // namespace impl\n",
        " \n",
        "template<typename RandomIt, typename Compare = std::less<typename std::iterator_traits<RandomIt>::value_type>>\n",
        "void std_partial_sort(RandomIt begin, RandomIt middle, RandomIt end, Compare comp = {}) {\n",
        "  impl::heap_select(begin, middle, end, comp);\n",
        "  std::sort_heap(begin, middle, comp);\n",
        "}\n",
        "\n",
        "template<typename RandomIt, typename Compare = std::less<typename std::iterator_traits<RandomIt>::value_type>>\n",
        "void std_nth_element(RandomIt begin, RandomIt middle, RandomIt end, Compare comp = {}) {\n",
        "  impl::heap_select(begin, middle, end, comp);\n",
        "}\n"
      ],
      "metadata": {
        "colab": {
          "base_uri": "https://localhost:8080/"
        },
        "id": "PwFkXzmmm6ZN",
        "outputId": "94edda8b-ec6a-41b1-f26c-2c2a1a5789e5"
      },
      "execution_count": 23,
      "outputs": [
        {
          "output_type": "stream",
          "name": "stdout",
          "text": [
            "Overwriting std_partial_sort.h\n"
          ]
        }
      ]
    },
    {
      "cell_type": "markdown",
      "source": [
        "本家のSTLのstd::nth_element()はkが小さい時は効率が悪いのですが、処理時間がkにあまり左右されない特徴があり、kが100万を超えてくると相対的に処理時間が短くなります。つまり、上記のstd_nth_element()のheapを使うのとは異なるアルゴリズムを採用しています。簡単に説明すると、配列を与えられた数値の大小で前後に分けるpartition()という線形オーダーの関数を使って、先頭に溜まる値がk個になるまで対象範囲を絞るのを繰り返します。前後に分けるための数値を適当に拾う、運任せのアルゴリズムです。"
      ],
      "metadata": {
        "id": "i5HOViBNpuRo"
      }
    },
    {
      "cell_type": "code",
      "source": [
        "%%writefile simple_nth_element.h\n",
        "\n",
        "#include <algorithm>\n",
        "\n",
        "// 三つの引数をcompの順になるように並べ替える関数\n",
        "template <class RandomAccessIterator, class Compare>\n",
        "void sort_3(RandomAccessIterator first, RandomAccessIterator middle, RandomAccessIterator last, Compare comp) {\n",
        "    if (comp(*first, *middle)) {\n",
        "        if (!comp(*middle, *last)) {\n",
        "            std::iter_swap(middle, last);\n",
        "            if (!comp(*first, *middle)) {\n",
        "                std::iter_swap(first, middle);\n",
        "            }\n",
        "        }\n",
        "    } else {\n",
        "        std::iter_swap(first, middle);\n",
        "        if (!comp(*middle, *last)) {\n",
        "            std::iter_swap(middle, last);\n",
        "            if (!comp(*first, *middle)) {\n",
        "                std::iter_swap(first, middle);\n",
        "            }\n",
        "        }\n",
        "    }\n",
        "}\n",
        "\n",
        "// compの順においてn番目までの要素を取得する関数\n",
        "template <class RandomAccessIterator, class Compare>\n",
        "void simple_nth_element(RandomAccessIterator first, RandomAccessIterator middle, RandomAccessIterator last, Compare comp) {\n",
        "    while (3 < last - first) {\n",
        "        // 先頭、途中、末尾の値を並び替えて、途中の値を使う\n",
        "        sort_3(first, middle, last - 1, comp);\n",
        "        auto m = *middle;\n",
        "        // 値mで前後に分ける\n",
        "        auto pos = std::partition(first, last, [m, comp](auto v) { return comp(v ,m); });\n",
        "        // 対象範囲を絞る\n",
        "        if (pos < middle) {\n",
        "            if (first == pos) ++first;\n",
        "            else first = pos;\n",
        "        } else if (middle < pos) {\n",
        "            if (last == pos) --last;\n",
        "            else last = pos;\n",
        "        }\n",
        "        else return;\n",
        "    }\n",
        "    sort_3(first, middle, last - 1, comp);\n",
        "}"
      ],
      "metadata": {
        "colab": {
          "base_uri": "https://localhost:8080/"
        },
        "id": "rq-V3GEyD3PH",
        "outputId": "d760333d-7756-4b92-a954-ef1733345c7f"
      },
      "execution_count": 24,
      "outputs": [
        {
          "output_type": "stream",
          "name": "stdout",
          "text": [
            "Overwriting simple_nth_element.h\n"
          ]
        }
      ]
    },
    {
      "cell_type": "markdown",
      "source": [
        "次が、処理時間を計測するプログラムです。クロック数はいわば手数にあたるものですが、IOの時間が反映されません。これらのアルゴリズムではキャッシュとの兼ね合いなども重要な要素なので、実時間の方に注目すべきです。"
      ],
      "metadata": {
        "id": "IXkTTFdMt59l"
      }
    },
    {
      "cell_type": "code",
      "source": [
        "%%writefile time_attack.cpp\n",
        "\n",
        "#include <algorithm>\n",
        "#include <vector>\n",
        "#include <random>\n",
        "\n",
        "#include \"util.h\"\n",
        "#include \"simple_partial_sort.h\"\n",
        "#include \"simple_nth_element.h\"\n",
        "#include \"std_partial_sort.h\"\n",
        "\n",
        "int main(int argc, char **argv) {\n",
        "    int num = atoi(argv[1]);\n",
        "    int topk = atoi(argv[2]);\n",
        "    std::vector<int> a[N], b[N];\n",
        "    std::vector<int> out(topk, 0);\n",
        "    std::random_device seed_gen;\n",
        "    std::mt19937 engine(seed_gen());\n",
        "    //std::mt19937 engine(0);\n",
        "    for (int i = 0; i < N; ++i) {\n",
        "        a[i].resize(num);\n",
        "        std::generate(a[i].begin(), a[i].end(), engine);\n",
        "    }\n",
        "\n",
        "    for (size_t i = 0; i < N; ++i) b[i] = a[i];\n",
        "    T(\"std::partial_sort\", std::partial_sort(b[i].begin(), b[i].begin() + topk, b[i].end(), std::less<>()));\n",
        "    P(\"std::partial_sort\", b[0].begin(), 10);\n",
        "\n",
        "    for (size_t i = 0; i < N; ++i) b[i] = a[i];\n",
        "    T(\"std_partial_sort\", std_partial_sort(b[i].begin(), b[i].begin() + topk, b[i].end(), std::less<>()));\n",
        "    P(\"std_partial_sort\", b[0].begin(), 10);\n",
        "\n",
        "    for (size_t i = 0; i < N; ++i) b[i] = a[i];\n",
        "    T(\"simple_partial_sort\", simple_partial_sort(b[i].begin(), b[i].begin() + topk, b[i].end(), std::less<>()));\n",
        "    P(\"simple_partial_sort\", b[0].begin(), 10);\n",
        "\n",
        "    for (size_t i = 0; i < N; ++i) b[i] = a[i];\n",
        "    T(\"std::nth_element\", std::nth_element(b[i].begin(), b[i].begin() + topk, b[i].end(), std::less<>()));\n",
        "    std::sort(b[0].begin(), b[0].begin() + topk);\n",
        "    P(\"std::nth_element\", b[0].begin(), 10);\n",
        "\n",
        "    for (size_t i = 0; i < N; ++i) b[i] = a[i];\n",
        "    T(\"std_nth_element\\t\", std_nth_element(b[i].begin(), b[i].begin() + topk, b[i].end(), std::less<>()));\n",
        "    std::sort(b[0].begin(), b[0].begin() + topk);\n",
        "    P(\"std_nth_element\\t\", b[0].begin(), 10);\n",
        "\n",
        "    for (size_t i = 0; i < N; ++i) b[i] = a[i];\n",
        "    T(\"simple_nth_element\", simple_nth_element(b[i].begin(), b[i].begin() + topk, b[i].end(), std::less<>()));\n",
        "    std::sort(b[0].begin(), b[0].begin() + topk);\n",
        "    P(\"simple_nth_element\", b[0].begin(), 10);\n",
        "}"
      ],
      "metadata": {
        "colab": {
          "base_uri": "https://localhost:8080/"
        },
        "id": "4ImB7dcaxhZZ",
        "outputId": "411ffbed-3f53-4e85-e0d4-0322683e0e36"
      },
      "execution_count": 25,
      "outputs": [
        {
          "output_type": "stream",
          "name": "stdout",
          "text": [
            "Overwriting time_attack.cpp\n"
          ]
        }
      ]
    },
    {
      "cell_type": "code",
      "source": [
        "!g++ time_attack.cpp -O3"
      ],
      "metadata": {
        "id": "8NSMextS17-e"
      },
      "execution_count": 26,
      "outputs": []
    },
    {
      "cell_type": "markdown",
      "source": [
        "上記の測定プログラムではあえて乱数を固定していません。10回の平均をとるとはいえ、対象の乱数の具合でどれほど影響があるか、見るためです。\n",
        "\n",
        "それでは1億個の乱数から上位10個を取り出す処理を5回やってみましょう。ちなみに結果を見やすくするため、2回目以降は標準出力を非表示にしています。"
      ],
      "metadata": {
        "id": "LtxlLdB5u6su"
      }
    },
    {
      "cell_type": "code",
      "source": [
        "!./a.out 100000000 10 "
      ],
      "metadata": {
        "colab": {
          "base_uri": "https://localhost:8080/"
        },
        "id": "Dy3NhuyF-yg4",
        "outputId": "85ab5761-0af5-4adf-8838-903152ae2ecc"
      },
      "execution_count": 27,
      "outputs": [
        {
          "output_type": "stream",
          "name": "stdout",
          "text": [
            "std::partial_sort\tave: 0.077587 sec 8191 clock\n",
            "std::partial_sort\t-2147483633 -2147483542 -2147483534 -2147483515 -2147483494 -2147483487 -2147483465 -2147483335 -2147483318 -2147483255 \n",
            "std_partial_sort\tave: 0.065622 sec 13107 clock\n",
            "std_partial_sort\t-2147483633 -2147483542 -2147483534 -2147483515 -2147483494 -2147483487 -2147483465 -2147483335 -2147483318 -2147483255 \n",
            "simple_partial_sort\tave: 0.102721 sec 13107 clock\n",
            "simple_partial_sort\t-2147483633 -2147483542 -2147483534 -2147483515 -2147483494 -2147483487 -2147483465 -2147483335 -2147483318 -2147483255 \n",
            "std::nth_element\tave: 1.356455 sec 137625 clock\n",
            "std::nth_element\t-2147483633 -2147483542 -2147483534 -2147483515 -2147483494 -2147483487 -2147483465 -2147483335 -2147483318 -2147483255 \n",
            "std_nth_element\t\tave: 0.072911 sec 13107 clock\n",
            "std_nth_element\t\t-2147483633 -2147483542 -2147483534 -2147483515 -2147483494 -2147483487 -2147483465 -2147483335 -2147483318 -2147483255 \n",
            "simple_nth_element\tave: 0.877183 sec 91750 clock\n",
            "simple_nth_element\t-2147483633 -2147483542 -2147483534 -2147483515 -2147483494 -2147483487 -2147483465 -2147483335 -2147483318 -2147483255 \n"
          ]
        }
      ]
    },
    {
      "cell_type": "code",
      "source": [
        "!./a.out 100000000 10 > /dev/null"
      ],
      "metadata": {
        "colab": {
          "base_uri": "https://localhost:8080/"
        },
        "id": "LtGxr2uwgPAr",
        "outputId": "a33cfa3f-b298-4c32-fa64-57e3347b5882"
      },
      "execution_count": 28,
      "outputs": [
        {
          "output_type": "stream",
          "name": "stdout",
          "text": [
            "std::partial_sort\tave: 0.075216 sec 13107 clock\n",
            "std_partial_sort\tave: 0.072400 sec 13107 clock\n",
            "simple_partial_sort\tave: 0.096547 sec 13107 clock\n",
            "std::nth_element\tave: 1.000136 sec 104857 clock\n",
            "std_nth_element\t\tave: 0.076756 sec 13107 clock\n",
            "simple_nth_element\tave: 1.237228 sec 124518 clock\n"
          ]
        }
      ]
    },
    {
      "cell_type": "code",
      "source": [
        "!./a.out 100000000 10 > /dev/null"
      ],
      "metadata": {
        "colab": {
          "base_uri": "https://localhost:8080/"
        },
        "id": "p0XwewtkgdO9",
        "outputId": "607fe368-86d3-433a-905d-532881e71fdf"
      },
      "execution_count": 29,
      "outputs": [
        {
          "output_type": "stream",
          "name": "stdout",
          "text": [
            "std::partial_sort\tave: 0.064199 sec 13107 clock\n",
            "std_partial_sort\tave: 0.073393 sec 13105 clock\n",
            "simple_partial_sort\tave: 0.091290 sec 9830 clock\n",
            "std::nth_element\tave: 0.612676 sec 62259 clock\n",
            "std_nth_element\t\tave: 0.077525 sec 8191 clock\n",
            "simple_nth_element\tave: 0.999661 sec 101580 clock\n"
          ]
        }
      ]
    },
    {
      "cell_type": "code",
      "source": [
        "!./a.out 100000000 10 > /dev/null"
      ],
      "metadata": {
        "colab": {
          "base_uri": "https://localhost:8080/"
        },
        "id": "ayg71KF59Plx",
        "outputId": "99c30e79-f580-4c67-b645-8b0b6dd31876"
      },
      "execution_count": 30,
      "outputs": [
        {
          "output_type": "stream",
          "name": "stdout",
          "text": [
            "std::partial_sort\tave: 0.076138 sec 7782 clock\n",
            "std_partial_sort\tave: 0.076562 sec 9830 clock\n",
            "simple_partial_sort\tave: 0.089750 sec 9830 clock\n",
            "std::nth_element\tave: 0.800072 sec 81919 clock\n",
            "std_nth_element\t\tave: 0.077522 sec 9420 clock\n",
            "simple_nth_element\tave: 0.771879 sec 78643 clock\n"
          ]
        }
      ]
    },
    {
      "cell_type": "code",
      "source": [
        "!./a.out 100000000 10 > /dev/null"
      ],
      "metadata": {
        "colab": {
          "base_uri": "https://localhost:8080/"
        },
        "id": "PZ2WCevr9S-6",
        "outputId": "c385ccf1-5601-40ed-b724-903813685a9a"
      },
      "execution_count": 31,
      "outputs": [
        {
          "output_type": "stream",
          "name": "stdout",
          "text": [
            "std::partial_sort\tave: 0.070214 sec 13107 clock\n",
            "std_partial_sort\tave: 0.067098 sec 13107 clock\n",
            "simple_partial_sort\tave: 0.094695 sec 13107 clock\n",
            "std::nth_element\tave: 0.635329 sec 63897 clock\n",
            "std_nth_element\t\tave: 0.074179 sec 8191 clock\n",
            "simple_nth_element\tave: 0.571285 sec 57343 clock\n"
          ]
        }
      ]
    },
    {
      "cell_type": "markdown",
      "source": [
        "\n",
        "以下のことが分かります。\n",
        "* 各 partial_sort と std_nth_element() は概ね安定している\n",
        "* std::nth_element() と simple_nth_element() は対象配列の分布に処理時間が大きく左右される。\n",
        "* std::partial_sort() と std_partial_sort() はほぼ同等である。\n",
        "* simple_partial_sort() より std_partial_sort() の方が効率が良い。\n",
        "* simple_nth_element() より std::nth_element() の方が効率が良い場合が多いが、オーダーはほぼ同等。\n",
        "* std::nth_element() と simple_nth_element() はTop 10では効率が悪い。\n",
        "\n"
      ],
      "metadata": {
        "id": "m0X_HUTcvdAO"
      }
    },
    {
      "cell_type": "markdown",
      "source": [
        "それでは順次、kを大きくして実行してみます。"
      ],
      "metadata": {
        "id": "TNySFBay1hTE"
      }
    },
    {
      "cell_type": "code",
      "source": [
        "!./a.out 100000000 100 > /dev/null"
      ],
      "metadata": {
        "colab": {
          "base_uri": "https://localhost:8080/"
        },
        "id": "K74qyL2VXF0D",
        "outputId": "989b7b1a-bebb-4a61-8cea-0ef6ab84fcb5"
      },
      "execution_count": 32,
      "outputs": [
        {
          "output_type": "stream",
          "name": "stdout",
          "text": [
            "std::partial_sort\tave: 0.065807 sec 13107 clock\n",
            "std_partial_sort\tave: 0.066256 sec 13107 clock\n",
            "simple_partial_sort\tave: 0.091300 sec 9830 clock\n",
            "std::nth_element\tave: 0.561723 sec 58982 clock\n",
            "std_nth_element\t\tave: 0.066902 sec 13107 clock\n",
            "simple_nth_element\tave: 0.600022 sec 65535 clock\n"
          ]
        }
      ]
    },
    {
      "cell_type": "code",
      "source": [
        "!./a.out 100000000 1000 > /dev/null"
      ],
      "metadata": {
        "colab": {
          "base_uri": "https://localhost:8080/"
        },
        "id": "YDmlXJqWXi5y",
        "outputId": "0732e142-be7a-43b6-fe45-45822fbc3a3d"
      },
      "execution_count": 33,
      "outputs": [
        {
          "output_type": "stream",
          "name": "stdout",
          "text": [
            "std::partial_sort\tave: 0.075713 sec 8191 clock\n",
            "std_partial_sort\tave: 0.076911 sec 8191 clock\n",
            "simple_partial_sort\tave: 0.099498 sec 13107 clock\n",
            "std::nth_element\tave: 0.611028 sec 62259 clock\n",
            "std_nth_element\t\tave: 0.072518 sec 13107 clock\n",
            "simple_nth_element\tave: 1.019500 sec 104857 clock\n"
          ]
        }
      ]
    },
    {
      "cell_type": "code",
      "source": [
        "!./a.out 100000000 10000 > /dev/null"
      ],
      "metadata": {
        "colab": {
          "base_uri": "https://localhost:8080/"
        },
        "id": "5NVqe4tjE9pl",
        "outputId": "bb5b1299-93f6-461d-a6ee-dc55a1685e99"
      },
      "execution_count": 34,
      "outputs": [
        {
          "output_type": "stream",
          "name": "stdout",
          "text": [
            "std::partial_sort\tave: 0.086458 sec 9830 clock\n",
            "std_partial_sort\tave: 0.086798 sec 13107 clock\n",
            "simple_partial_sort\tave: 0.106478 sec 13107 clock\n",
            "std::nth_element\tave: 0.601796 sec 60620 clock\n",
            "std_nth_element\t\tave: 0.084962 sec 9830 clock\n",
            "simple_nth_element\tave: 0.668110 sec 67174 clock\n"
          ]
        }
      ]
    },
    {
      "cell_type": "code",
      "source": [
        "!./a.out 100000000 100000 > /dev/null"
      ],
      "metadata": {
        "colab": {
          "base_uri": "https://localhost:8080/"
        },
        "id": "b-0JyHG5Xu3U",
        "outputId": "e37bcaf2-45c9-4c80-ac86-c62de7a84eaa"
      },
      "execution_count": 35,
      "outputs": [
        {
          "output_type": "stream",
          "name": "stdout",
          "text": [
            "std::partial_sort\tave: 0.201937 sec 26214 clock\n",
            "std_partial_sort\tave: 0.182388 sec 19660 clock\n",
            "simple_partial_sort\tave: 0.227703 sec 26214 clock\n",
            "std::nth_element\tave: 0.991851 sec 104857 clock\n",
            "std_nth_element\t\tave: 0.169735 sec 19660 clock\n",
            "simple_nth_element\tave: 1.047386 sec 209715 clock\n"
          ]
        }
      ]
    },
    {
      "cell_type": "code",
      "source": [
        "!./a.out 100000000 1000000 > /dev/null"
      ],
      "metadata": {
        "colab": {
          "base_uri": "https://localhost:8080/"
        },
        "id": "J7hmbouQ7atY",
        "outputId": "585c987e-c8d7-469d-a87f-73dd0d573253"
      },
      "execution_count": 36,
      "outputs": [
        {
          "output_type": "stream",
          "name": "stdout",
          "text": [
            "std::partial_sort\tave: 1.551150 sec 209715 clock\n",
            "std_partial_sort\tave: 1.364721 sec 157286 clock\n",
            "simple_partial_sort\tave: 1.617882 sec 209715 clock\n",
            "std::nth_element\tave: 0.369516 sec 37683 clock\n",
            "std_nth_element\t\tave: 1.203761 sec 209715 clock\n",
            "simple_nth_element\tave: 0.893800 sec 91750 clock\n"
          ]
        }
      ]
    },
    {
      "cell_type": "code",
      "source": [
        "!./a.out 100000000 10000000 > /dev/null"
      ],
      "metadata": {
        "colab": {
          "base_uri": "https://localhost:8080/"
        },
        "id": "JvLKvzIV8vP2",
        "outputId": "22590f76-995c-4d56-fa93-8a9e0f3f9834"
      },
      "execution_count": 37,
      "outputs": [
        {
          "output_type": "stream",
          "name": "stdout",
          "text": [
            "std::partial_sort\tave: 13.380789 sec 1677721 clock\n",
            "std_partial_sort\tave: 12.185713 sec 1677721 clock\n",
            "simple_partial_sort\tave: 13.654719 sec 1468006 clock\n",
            "std::nth_element\tave: 1.024504 sec 104857 clock\n",
            "std_nth_element\t\tave: 8.741089 sec 1677721 clock\n",
            "simple_nth_element\tave: 0.805549 sec 81919 clock\n"
          ]
        }
      ]
    },
    {
      "cell_type": "markdown",
      "source": [
        "kが100万まではpartial_sort系が圧倒的に速いです。そこを超えてくるとnth_elementの方が相対的に速くなってきます。ただ、top100万超が実用的に必要となる場面は少なそうです。"
      ],
      "metadata": {
        "id": "LE-gOBsq1thw"
      }
    },
    {
      "cell_type": "markdown",
      "source": [
        "## 8. ポインターのソート"
      ],
      "metadata": {
        "id": "bsaVH3MZUNIh"
      }
    },
    {
      "cell_type": "markdown",
      "source": [
        "元の配列は変えずにソートしたい場合、要素へのポインタをソートするにはどうしたらいいでしょうか。独自の比較演算子を定義することで実現できます。見やすくするためエラー処理は省いています。"
      ],
      "metadata": {
        "id": "yY6JAw1YIzsq"
      }
    },
    {
      "cell_type": "code",
      "source": [
        "%%writefile sort_ptr.cpp\n",
        "#include <algorithm>\n",
        "#include <random>\n",
        "#include <iostream>\n",
        "\n",
        "template <typename T>\n",
        "bool greater_ptr(const T* x_ptr, const T* y_ptr) {\n",
        "    return *x_ptr > *y_ptr;\n",
        "}\n",
        "\n",
        "template <typename T>\n",
        "bool less_ptr(const T* x_ptr, const T* y_ptr) {\n",
        "    return *x_ptr < *y_ptr;\n",
        "}\n",
        "\n",
        "int main(int argc, char **argv) {\n",
        "    int n = atoi(argv[1]);\n",
        "    int k = atoi(argv[2]);\n",
        "    int *a = (int*)malloc(sizeof(int) * n);\n",
        "    std::mt19937 engine(0);\n",
        "    std::generate(a, a + n, engine);\n",
        "\n",
        "    for (int i = 0; i < n; ++i) std::cout << i << \"\\t\" << a[i] << std::endl;\n",
        "    int **p = (int**)malloc(sizeof(int*) * n);\n",
        "    for (int i = 0; i < n; ++i) p[i] = a + i;\n",
        "\n",
        "    std::cout << \"greater\" << std::endl;\n",
        "    std::partial_sort(p, p + k, p + n, greater_ptr<int>);\n",
        "    for (int i = 0; i < k; ++i) std::cout << p[i] - a << \"\\t\" << *p[i] << std::endl;\n",
        "\n",
        "    std::cout << \"less\" << std::endl;\n",
        "    std::partial_sort(p, p + k, p + n, less_ptr<int>);\n",
        "    for (int i = 0; i < k; ++i) std::cout << p[i] - a << \"\\t\" << *p[i] << std::endl;\n",
        "\n",
        "    free(a);\n",
        "    free(p);\n",
        "}"
      ],
      "metadata": {
        "colab": {
          "base_uri": "https://localhost:8080/"
        },
        "id": "sWl30EULJlOM",
        "outputId": "56e23a05-22e8-43f6-f949-332b71a5ca4b"
      },
      "execution_count": 38,
      "outputs": [
        {
          "output_type": "stream",
          "name": "stdout",
          "text": [
            "Overwriting sort_ptr.cpp\n"
          ]
        }
      ]
    },
    {
      "cell_type": "code",
      "source": [
        "!g++ sort_ptr.cpp ; ./a.out 20 5"
      ],
      "metadata": {
        "colab": {
          "base_uri": "https://localhost:8080/"
        },
        "id": "XfuQF1jpKpsi",
        "outputId": "69770c72-ddb1-4e6e-b7c1-92d5ac14f97e"
      },
      "execution_count": 39,
      "outputs": [
        {
          "output_type": "stream",
          "name": "stdout",
          "text": [
            "0\t-1937831252\n",
            "1\t-1748719057\n",
            "2\t-1223252363\n",
            "3\t-668873536\n",
            "4\t-1706118333\n",
            "5\t-610118917\n",
            "6\t-1954711869\n",
            "7\t-656048793\n",
            "8\t1819583497\n",
            "9\t-1616781613\n",
            "10\t-1520873195\n",
            "11\t1650906866\n",
            "12\t1879422756\n",
            "13\t1277901399\n",
            "14\t-464831418\n",
            "15\t243580376\n",
            "16\t-156067240\n",
            "17\t1171049868\n",
            "18\t1646868794\n",
            "19\t2051556033\n",
            "greater\n",
            "19\t2051556033\n",
            "12\t1879422756\n",
            "8\t1819583497\n",
            "11\t1650906866\n",
            "18\t1646868794\n",
            "less\n",
            "6\t-1954711869\n",
            "0\t-1937831252\n",
            "1\t-1748719057\n",
            "4\t-1706118333\n",
            "9\t-1616781613\n"
          ]
        }
      ]
    },
    {
      "cell_type": "markdown",
      "source": [
        "できました。一点、注意点があります。配列としてvectorも利用できてしまいますが、これはよろしくありません。なぜならvectorの要素へのポインターは変更される可能性があるからです。ご注意ください。"
      ],
      "metadata": {
        "id": "v996uk4xPaBI"
      }
    },
    {
      "cell_type": "markdown",
      "source": [
        "## 9. インデックス番号のソート\n",
        "\n",
        "\n",
        "\n"
      ],
      "metadata": {
        "id": "XSDM_Gg9SbtT"
      }
    },
    {
      "cell_type": "markdown",
      "source": [
        "ポインターのソートはできましたが、配列要素へのポインターの配列を作らなければなりません。ポインターは8バイト使うので、この配列はかなり大きくなってしまいます。これを節約するためにインデックス番号でソートする方法はないでしょうか。これも、独自比較演算子を使えばできます。元の配列にアクセスする必要があるので、比較演算子のコンストラクタに元の配列を引数で指定します。\n",
        "\n",
        "インデックス番号のソートなら、vectorでも問題ありません。"
      ],
      "metadata": {
        "id": "aRisOHSJPNGq"
      }
    },
    {
      "cell_type": "code",
      "source": [
        "%%writefile sort_index.cpp\n",
        "\n",
        "#include <algorithm>\n",
        "#include <random>\n",
        "#include <iostream>\n",
        "#include <vector>\n",
        "#include <numeric>\n",
        "\n",
        "template <typename T>\n",
        "struct greater_index {\n",
        "  const T &vec;\n",
        "  greater_index(const T& vec) : vec(vec) {}\n",
        "  bool operator()(const size_t x, const size_t y) {\n",
        "    return vec[x] > vec[y];\n",
        "  }\n",
        "};\n",
        "\n",
        "template <typename T>\n",
        "struct less_index {\n",
        "  const T &vec;\n",
        "  less_index(const T& vec) : vec(vec) {}\n",
        "  bool operator()(const size_t x, const size_t y) {\n",
        "    return vec[x] < vec[y];\n",
        "  }\n",
        "};\n",
        "\n",
        "int main(int argc, char **argv) {\n",
        "    int n = atoi(argv[1]);\n",
        "    int k = atoi(argv[2]);\n",
        "    std::vector<int> a(n);\n",
        "    std::mt19937 engine(0);\n",
        "    std::generate(a.begin(), a.end(), engine);\n",
        "\n",
        "    for (int i = 0; i < n; ++i) std::cout << i << \"\\t\" << a[i] << std::endl;\n",
        "\n",
        "    std::vector<uint16_t> index(n);\n",
        "    iota(index.begin(),index.end(), 0);\n",
        "\n",
        "    std::cout << \"greater\" << std::endl;\n",
        "    std::partial_sort(index.begin(), index.begin() + k, index.end(), greater_index<std::vector<int>>(a));\n",
        "    for (int i = 0; i < k; ++i) std::cout << index[i] << \"\\t\" << a[index[i]] << std::endl;\n",
        "\n",
        "    std::cout << \"less\" << std::endl;\n",
        "    std::partial_sort(index.begin(), index.begin() + k, index.end(), less_index<std::vector<int>>(a));\n",
        "    for (int i = 0; i < k; ++i) std::cout << index[i] << \"\\t\" << a[index[i]] << std::endl;\n",
        "\n",
        "}"
      ],
      "metadata": {
        "colab": {
          "base_uri": "https://localhost:8080/"
        },
        "id": "syMpjaXVQZ4M",
        "outputId": "d4400372-c65e-4c93-b287-2bd866166e99"
      },
      "execution_count": 40,
      "outputs": [
        {
          "output_type": "stream",
          "name": "stdout",
          "text": [
            "Overwriting sort_index.cpp\n"
          ]
        }
      ]
    },
    {
      "cell_type": "code",
      "source": [
        "!g++ sort_index.cpp ; ./a.out 20 5"
      ],
      "metadata": {
        "colab": {
          "base_uri": "https://localhost:8080/"
        },
        "id": "QMLdu1BzScib",
        "outputId": "e534bd91-75c0-4a0d-fd4d-d6a1981b22cc"
      },
      "execution_count": 41,
      "outputs": [
        {
          "output_type": "stream",
          "name": "stdout",
          "text": [
            "0\t-1937831252\n",
            "1\t-1748719057\n",
            "2\t-1223252363\n",
            "3\t-668873536\n",
            "4\t-1706118333\n",
            "5\t-610118917\n",
            "6\t-1954711869\n",
            "7\t-656048793\n",
            "8\t1819583497\n",
            "9\t-1616781613\n",
            "10\t-1520873195\n",
            "11\t1650906866\n",
            "12\t1879422756\n",
            "13\t1277901399\n",
            "14\t-464831418\n",
            "15\t243580376\n",
            "16\t-156067240\n",
            "17\t1171049868\n",
            "18\t1646868794\n",
            "19\t2051556033\n",
            "greater\n",
            "19\t2051556033\n",
            "12\t1879422756\n",
            "8\t1819583497\n",
            "11\t1650906866\n",
            "18\t1646868794\n",
            "less\n",
            "6\t-1954711869\n",
            "0\t-1937831252\n",
            "1\t-1748719057\n",
            "4\t-1706118333\n",
            "9\t-1616781613\n"
          ]
        }
      ]
    },
    {
      "cell_type": "markdown",
      "source": [
        "できました。余分に必要な配列は vector\\<uint16_t\\> なので、ポインターより省スペースです。もちろん、上限があるので、超える場合、適宜uint32_t等に変えてください。"
      ],
      "metadata": {
        "id": "qDVC9CL-UTUu"
      }
    },
    {
      "cell_type": "markdown",
      "source": [
        "最後に、もっと格好良い書き方を思いついたので記載しておきます。"
      ],
      "metadata": {
        "id": "07Qp-J0GpCk0"
      }
    },
    {
      "cell_type": "code",
      "source": [
        "%%writefile sort_index.cpp\n",
        "\n",
        "#include <algorithm>\n",
        "#include <random>\n",
        "#include <iostream>\n",
        "#include <vector>\n",
        "#include <numeric>\n",
        "\n",
        "template <typename T>\n",
        "auto greater_index(const T& vec) {\n",
        "  return [vec](int left_index, int right_index) {\n",
        "    return vec[left_index] > vec[right_index];\n",
        "  };\n",
        "}\n",
        "\n",
        "template <typename T>\n",
        "auto less_index(const T& vec) {\n",
        "  return [vec](int left_index, int right_index) {\n",
        "    return vec[left_index] < vec[right_index];\n",
        "  };\n",
        "}\n",
        "\n",
        "int main(int argc, char **argv) {\n",
        "    int n = atoi(argv[1]);\n",
        "    int k = atoi(argv[2]);\n",
        "    std::vector<int> a(n);\n",
        "    std::mt19937 engine(0);\n",
        "    std::generate(a.begin(), a.end(), engine);\n",
        "\n",
        "    for (int i = 0; i < n; ++i) std::cout << i << \"\\t\" << a[i] << std::endl;\n",
        "\n",
        "    std::vector<uint16_t> index(n);\n",
        "    iota(index.begin(),index.end(), 0);\n",
        "\n",
        "    std::cout << \"greater\" << std::endl;\n",
        "    std::partial_sort(index.begin(), index.begin() + k, index.end(), greater_index<>(a));\n",
        "    for (int i = 0; i < k; ++i) std::cout << index[i] << \"\\t\" << a[index[i]] << std::endl;\n",
        "\n",
        "    std::cout << \"less\" << std::endl;\n",
        "    std::partial_sort(index.begin(), index.begin() + k, index.end(), less_index<>(a));\n",
        "    for (int i = 0; i < k; ++i) std::cout << index[i] << \"\\t\" << a[index[i]] << std::endl;\n",
        "\n",
        "}"
      ],
      "metadata": {
        "colab": {
          "base_uri": "https://localhost:8080/"
        },
        "id": "WW9y0rebm8sa",
        "outputId": "7b6d32c9-4271-485e-856d-94afa8c5991b"
      },
      "execution_count": 42,
      "outputs": [
        {
          "output_type": "stream",
          "name": "stdout",
          "text": [
            "Overwriting sort_index.cpp\n"
          ]
        }
      ]
    },
    {
      "cell_type": "code",
      "source": [
        "!g++ sort_index.cpp ; ./a.out 20 5"
      ],
      "metadata": {
        "colab": {
          "base_uri": "https://localhost:8080/"
        },
        "id": "sPyZm_8jm_gk",
        "outputId": "2396e143-3889-4065-ea37-267da854e8f1"
      },
      "execution_count": 43,
      "outputs": [
        {
          "output_type": "stream",
          "name": "stdout",
          "text": [
            "0\t-1937831252\n",
            "1\t-1748719057\n",
            "2\t-1223252363\n",
            "3\t-668873536\n",
            "4\t-1706118333\n",
            "5\t-610118917\n",
            "6\t-1954711869\n",
            "7\t-656048793\n",
            "8\t1819583497\n",
            "9\t-1616781613\n",
            "10\t-1520873195\n",
            "11\t1650906866\n",
            "12\t1879422756\n",
            "13\t1277901399\n",
            "14\t-464831418\n",
            "15\t243580376\n",
            "16\t-156067240\n",
            "17\t1171049868\n",
            "18\t1646868794\n",
            "19\t2051556033\n",
            "greater\n",
            "19\t2051556033\n",
            "12\t1879422756\n",
            "8\t1819583497\n",
            "11\t1650906866\n",
            "18\t1646868794\n",
            "less\n",
            "6\t-1954711869\n",
            "0\t-1937831252\n",
            "1\t-1748719057\n",
            "4\t-1706118333\n",
            "9\t-1616781613\n"
          ]
        }
      ]
    },
    {
      "cell_type": "markdown",
      "source": [
        "それにしてもC++は便利ですね。以上です。"
      ],
      "metadata": {
        "id": "lNgYdhD_XPBf"
      }
    }
  ]
}